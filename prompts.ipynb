{
 "cells": [
  {
   "cell_type": "code",
   "execution_count": 1,
   "metadata": {},
   "outputs": [
    {
     "data": {
      "text/plain": [
       "True"
      ]
     },
     "execution_count": 1,
     "metadata": {},
     "output_type": "execute_result"
    }
   ],
   "source": [
    "from dotenv import load_dotenv\n",
    "load_dotenv()"
   ]
  },
  {
   "cell_type": "code",
   "execution_count": 6,
   "metadata": {},
   "outputs": [
    {
     "name": "stdout",
     "output_type": "stream",
     "text": [
      "Sri Lanka, officially known as the Democratic Socialist Republic of Sri Lanka, is an island country located in South Asia. Here is some information about Sri Lanka:\n",
      "\n",
      "1. Capital: Sri Jayawardenepura Kotte (official administrative capital), Colombo (commercial capital)\n",
      "2. Population: Approximately 21 million people\n",
      "3. Language: Sinhala and Tamil are the official languages, while English is also widely spoken.\n",
      "4. Currency: Sri Lankan Rupee (LKR)\n",
      "5. Government: Unitary semi-presidential constitutional republic\n",
      "6. Religion: Buddhism is the largest religion, followed by Hinduism, Islam, and Christianity.\n",
      "7. Geography: Sri Lanka is known for its diverse landscapes, including beaches, rainforests, highlands, and ancient ruins.\n",
      "8. Economy: Sri Lanka's economy is based on agriculture, tourism, and manufacturing industries.\n",
      "9. Culture: Sri Lanka has a rich cultural heritage with influences from various civilizations, including Indian, Portuguese, Dutch, and British.\n",
      "10. Tourism: Sri Lanka is a popular tourist destination known for its beautiful beaches, ancient temples, wildlife reserves, and tea plantations.\n",
      "\n",
      "If you need more specific information or details about any aspect of Sri Lanka, feel free to ask!\n"
     ]
    }
   ],
   "source": [
    "from langchain.chat_models import ChatOpenAI\n",
    "from langchain.prompts.chat import (\n",
    "    ChatPromptTemplate,\n",
    "    SystemMessagePromptTemplate,\n",
    "    HumanMessagePromptTemplate,\n",
    ")\n",
    "\n",
    "chat = ChatOpenAI(model_name=\"gpt-3.5-turbo\", temperature=0)\n",
    "\n",
    "template = \"You are an assistant that helps users find information about countries.\"\n",
    "system_message_prompt = SystemMessagePromptTemplate.from_template(template)\n",
    "human_template = \"Find information about the country {country_name}.\"\n",
    "human_message_prompt = HumanMessagePromptTemplate.from_template(human_template)\n",
    "\n",
    "chat_prompt = ChatPromptTemplate.from_messages([system_message_prompt, human_message_prompt])\n",
    "\n",
    "response = chat(chat_prompt.format_prompt(country_name=\"Sri Lanka\").to_messages())\n",
    "\n",
    "print(response.content)"
   ]
  },
  {
   "attachments": {},
   "cell_type": "markdown",
   "metadata": {},
   "source": [
    "## Summarization chains"
   ]
  },
  {
   "cell_type": "code",
   "execution_count": 10,
   "metadata": {},
   "outputs": [
    {
     "name": "stdout",
     "output_type": "stream",
     "text": [
      "The paper introduces the Transformer model, which is based on attention mechanisms and eliminates the need for recurrent or convolutional layers in sequence transduction tasks. The model achieves state-of-the-art results in machine translation tasks, outperforming previous models in terms of quality and training efficiency. The paper also explores the generalization of the Transformer model to English constituency parsing tasks, where it performs well compared to existing models. The code used for training and evaluation is available online.\n"
     ]
    }
   ],
   "source": [
    "from langchain import OpenAI, PromptTemplate\n",
    "from langchain.chains.summarize import load_summarize_chain\n",
    "from langchain.document_loaders import PyPDFLoader\n",
    "\n",
    "llm = OpenAI(model_name=\"gpt-3.5-turbo\", temperature=0)\n",
    "\n",
    "summarize_chain = load_summarize_chain(llm=llm)\n",
    "\n",
    "document_loader = PyPDFLoader(file_path=\"./data/attention.pdf\")\n",
    "document = document_loader.load()\n",
    "\n",
    "summary = summarize_chain(document)\n",
    "print(summary['output_text'])"
   ]
  },
  {
   "cell_type": "code",
   "execution_count": null,
   "metadata": {},
   "outputs": [],
   "source": []
  }
 ],
 "metadata": {
  "kernelspec": {
   "display_name": "Python 3",
   "language": "python",
   "name": "python3"
  },
  "language_info": {
   "codemirror_mode": {
    "name": "ipython",
    "version": 3
   },
   "file_extension": ".py",
   "mimetype": "text/x-python",
   "name": "python",
   "nbconvert_exporter": "python",
   "pygments_lexer": "ipython3",
   "version": "3.11.0"
  },
  "orig_nbformat": 4,
  "vscode": {
   "interpreter": {
    "hash": "9aa24ffebc6c6282d56f038eeb0b236157591590e22761f2d2261cab00e683fe"
   }
  }
 },
 "nbformat": 4,
 "nbformat_minor": 2
}
